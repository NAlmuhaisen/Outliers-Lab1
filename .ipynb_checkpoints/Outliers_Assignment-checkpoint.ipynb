{
 "cells": [
  {
   "cell_type": "markdown",
   "id": "timely-involvement",
   "metadata": {},
   "source": [
    "### Import your librares"
   ]
  },
  {
   "cell_type": "code",
   "execution_count": 1,
   "id": "dramatic-briefs",
   "metadata": {},
   "outputs": [],
   "source": [
    "#Import needed libraries\n",
    "import pandas as pd\n",
    "import numpy as np\n",
    "import matplotlib.pyplot as plt\n",
    "import seaborn as sns"
   ]
  },
  {
   "cell_type": "markdown",
   "id": "australian-softball",
   "metadata": {},
   "source": [
    "### Load your dataset"
   ]
  },
  {
   "cell_type": "code",
   "execution_count": 2,
   "id": "average-recipient",
   "metadata": {},
   "outputs": [],
   "source": [
    "#Read dataset\n",
    "df = pd.read_csv('/Users/norah/Desktop/labs/Outliers-Lab1/seattle_weather.csv')"
   ]
  },
  {
   "cell_type": "markdown",
   "id": "9f68b54e",
   "metadata": {},
   "source": [
    "### Handle missing data in PRCP and RAIN columns"
   ]
  },
  {
   "cell_type": "code",
   "execution_count": 3,
   "id": "0801bd07",
   "metadata": {},
   "outputs": [
    {
     "name": "stdout",
     "output_type": "stream",
     "text": [
      "The columns that have null values are:\n",
      " PRCP    3\n",
      "RAIN    3\n",
      "dtype: int64\n"
     ]
    }
   ],
   "source": [
    "df_nullColumns = df.columns[df.isnull().any()]\n",
    "sumNullColumns = df[df_nullColumns].isnull().sum()\n",
    "print(\"The columns that have null values are:\\n\", sumNullColumns)"
   ]
  },
  {
   "cell_type": "code",
   "execution_count": 4,
   "id": "46a8cd73",
   "metadata": {},
   "outputs": [
    {
     "data": {
      "text/plain": [
       "0.24462904154362605"
      ]
     },
     "execution_count": 4,
     "metadata": {},
     "output_type": "execute_result"
    }
   ],
   "source": [
    "df.RAIN.var()"
   ]
  },
  {
   "cell_type": "code",
   "execution_count": 5,
   "id": "a67f51b7",
   "metadata": {},
   "outputs": [
    {
     "data": {
      "text/plain": [
       "0.24462168866671707"
      ]
     },
     "execution_count": 5,
     "metadata": {},
     "output_type": "execute_result"
    }
   ],
   "source": [
    "# testing the variation\n",
    "#mode\n",
    "df2 = pd.read_csv('/Users/norah/Desktop/labs/Outliers-Lab1/seattle_weather.csv')\n",
    "PRCP_mode = df2.PRCP.mode()[0]\n",
    "df2['RAIN'] = df2['RAIN'].fillna(PRCP_mode)\n",
    "df2.RAIN.var()"
   ]
  },
  {
   "cell_type": "code",
   "execution_count": 6,
   "id": "8c635a8b",
   "metadata": {},
   "outputs": [
    {
     "data": {
      "text/plain": [
       "0.24461237209813327"
      ]
     },
     "execution_count": 6,
     "metadata": {},
     "output_type": "execute_result"
    }
   ],
   "source": [
    "# mean\n",
    "df2 = pd.read_csv('/Users/norah/Desktop/labs/Outliers-Lab1/seattle_weather.csv')\n",
    "PRCP_mean = df2.PRCP.mean()\n",
    "df2['RAIN'] = df2['RAIN'].fillna(PRCP_mean)\n",
    "df2.RAIN.var()"
   ]
  },
  {
   "cell_type": "code",
   "execution_count": 7,
   "id": "bd9abb22",
   "metadata": {},
   "outputs": [
    {
     "data": {
      "text/plain": [
       "0.24462168866671707"
      ]
     },
     "execution_count": 7,
     "metadata": {},
     "output_type": "execute_result"
    }
   ],
   "source": [
    "# median\n",
    "df2 = pd.read_csv('/Users/norah/Desktop/labs/Outliers-Lab1/seattle_weather.csv')\n",
    "PRCP_median = df2.PRCP.median()\n",
    "df2['RAIN'] = df2['RAIN'].fillna(PRCP_median)\n",
    "df2.RAIN.var()"
   ]
  },
  {
   "cell_type": "code",
   "execution_count": 8,
   "id": "b32b75a9",
   "metadata": {},
   "outputs": [
    {
     "data": {
      "text/plain": [
       "0.24462168866671707"
      ]
     },
     "execution_count": 8,
     "metadata": {},
     "output_type": "execute_result"
    }
   ],
   "source": [
    "# forward\n",
    "df2 = pd.read_csv('/Users/norah/Desktop/labs/Outliers-Lab1/seattle_weather.csv')\n",
    "df2['RAIN'] = df2['RAIN'].fillna(method=\"ffill\")\n",
    "df2.RAIN.var()"
   ]
  },
  {
   "cell_type": "code",
   "execution_count": 9,
   "id": "720a7576",
   "metadata": {},
   "outputs": [
    {
     "data": {
      "text/plain": [
       "0.24462168866671707"
      ]
     },
     "execution_count": 9,
     "metadata": {},
     "output_type": "execute_result"
    }
   ],
   "source": [
    "# backward\n",
    "df2 = pd.read_csv('/Users/norah/Desktop/labs/Outliers-Lab1/seattle_weather.csv')\n",
    "df2['RAIN'] = df2['RAIN'].fillna(method=\"bfill\")\n",
    "df2.RAIN.var()"
   ]
  },
  {
   "cell_type": "code",
   "execution_count": 10,
   "id": "26c2e41d",
   "metadata": {},
   "outputs": [
    {
     "data": {
      "text/plain": [
       "0.24462168866671707"
      ]
     },
     "execution_count": 10,
     "metadata": {},
     "output_type": "execute_result"
    }
   ],
   "source": [
    "#I choose forward to fill the null data since it makes more sense and it's closer to the variance\n",
    "df = pd.read_csv('/Users/norah/Desktop/labs/Outliers-Lab1/seattle_weather.csv')\n",
    "df['RAIN'] = df['RAIN'].fillna(method=\"ffill\")\n",
    "df.RAIN.var()"
   ]
  },
  {
   "cell_type": "code",
   "execution_count": 11,
   "id": "92239bcb",
   "metadata": {},
   "outputs": [
    {
     "data": {
      "text/plain": [
       "0.05713603840671194"
      ]
     },
     "execution_count": 11,
     "metadata": {},
     "output_type": "execute_result"
    }
   ],
   "source": [
    "df.PRCP.var()"
   ]
  },
  {
   "cell_type": "code",
   "execution_count": 12,
   "id": "b74c052c",
   "metadata": {},
   "outputs": [],
   "source": [
    "PRCP_mean = df2['PRCP'].mean()\n",
    "null_PRCP = df[df['PRCP'].isnull()]['RAIN'].unique()\n",
    "\n",
    "# Fill null PRCP values with mean PRCP values by RAIN\n",
    "\n",
    "for index, row in df.iterrows(): \n",
    "    if row['RAIN'] is True: #if it's raining,  fill the the null with the PRCP mean\n",
    "        df.loc[(df['RAIN'] == True) & (df['PRCP'].isnull()), 'PRCP'] = PRCP_mean\n",
    "    elif row['RAIN'] is False: #if it's not raining, set PRCP to zero\n",
    "        df.loc[(df['RAIN'] == False) & (df['PRCP'].isnull()), 'PRCP'] = 0"
   ]
  },
  {
   "cell_type": "code",
   "execution_count": 13,
   "id": "a726bab3",
   "metadata": {},
   "outputs": [
    {
     "data": {
      "text/plain": [
       "0.05713065433662097"
      ]
     },
     "execution_count": 13,
     "metadata": {},
     "output_type": "execute_result"
    }
   ],
   "source": [
    "df.PRCP.var()"
   ]
  },
  {
   "cell_type": "markdown",
   "id": "monthly-meter",
   "metadata": {},
   "source": [
    "### Repeat the following steps for each column within outliers\n",
    "\n",
    "* Visualize the outliers\n",
    "* Detect if your data set contains any outliers\n",
    "* Identify lower & higher limit of outliers\n",
    "* Drop all outliers\n",
    "* Visualize the column after processing\n"
   ]
  },
  {
   "cell_type": "code",
   "execution_count": 14,
   "id": "enhanced-forge",
   "metadata": {},
   "outputs": [
    {
     "data": {
      "image/png": "[encoded data removed]",
      "text/plain": [
       "<Figure size 640x480 with 1 Axes>"
      ]
     },
     "metadata": {},
     "output_type": "display_data"
    }
   ],
   "source": [
    "# Box Plot.\n",
    "sns.boxplot(data=df);"
   ]
  },
  {
   "cell_type": "code",
   "execution_count": 15,
   "id": "7438087d",
   "metadata": {},
   "outputs": [
    {
     "name": "stdout",
     "output_type": "stream",
     "text": [
      "lower bound outliers  17.0\n",
      "higher bound outliers 73.0\n"
     ]
    }
   ],
   "source": [
    "Q1 = df['TMIN'].quantile(0.25)\n",
    "Q3 = df['TMIN'].quantile(0.75)\n",
    "IQR = Q3 - Q1\n",
    "LowerBound = Q1 - 1.5*IQR\n",
    "UpperBound= Q3 + 1.5*IQR\n",
    "\n",
    "print('lower bound outliers ', LowerBound )\n",
    "print('higher bound outliers', UpperBound)"
   ]
  },
  {
   "cell_type": "code",
   "execution_count": 16,
   "id": "5f76acb9",
   "metadata": {},
   "outputs": [
    {
     "data": {
      "image/png": "[encoded data removed]",
      "text/plain": [
       "<Figure size 640x480 with 1 Axes>"
      ]
     },
     "metadata": {},
     "output_type": "display_data"
    }
   ],
   "source": [
    "\n",
    "df = df.drop(df[(df['TMIN'] < LowerBound) | (df['TMIN'] > UpperBound)].index)\n",
    "df.boxplot(column=['TMIN'])\n",
    "plt.show();\n",
    "\n"
   ]
  },
  {
   "cell_type": "code",
   "execution_count": 17,
   "id": "509a85ae",
   "metadata": {},
   "outputs": [
    {
     "name": "stdout",
     "output_type": "stream",
     "text": [
      "lower bound outliers  21.5\n",
      "higher bound outliers 97.5\n"
     ]
    }
   ],
   "source": [
    "Q1 = df['TMAX'].quantile(0.25)\n",
    "Q3 = df['TMAX'].quantile(0.75)\n",
    "IQR = Q3 - Q1\n",
    "LowerBound = Q1 - 1.5*IQR\n",
    "UpperBound = Q3 + 1.5*IQR\n",
    "print('lower bound outliers ', LowerBound )\n",
    "print('higher bound outliers', UpperBound)"
   ]
  },
  {
   "cell_type": "code",
   "execution_count": 18,
   "id": "36ec7b43",
   "metadata": {},
   "outputs": [
    {
     "data": {
      "image/png": "[encoded data removed]",
      "text/plain": [
       "<Figure size 640x480 with 1 Axes>"
      ]
     },
     "metadata": {},
     "output_type": "display_data"
    }
   ],
   "source": [
    "\n",
    "df = df.drop(df[(df['TMAX'] < LowerBound) | (df['TMAX'] > UpperBound)].index)\n",
    "df.boxplot(column=['TMAX'])\n",
    "plt.show();\n"
   ]
  },
  {
   "cell_type": "code",
   "execution_count": 19,
   "id": "3372c33e",
   "metadata": {},
   "outputs": [
    {
     "name": "stdout",
     "output_type": "stream",
     "text": [
      "lower bound outliers  -0.15000000000000002\n",
      "higher bound outliers 0.25\n"
     ]
    }
   ],
   "source": [
    "Q1 = df['PRCP'].quantile(0.25)\n",
    "Q3 = df['PRCP'].quantile(0.75)\n",
    "IQR = Q3 - Q1\n",
    "LowerBound = Q1 - 1.5*IQR\n",
    "UpperBound = Q3 + 1.5*IQR\n",
    "print('lower bound outliers ', LowerBound )\n",
    "print('higher bound outliers', UpperBound)"
   ]
  },
  {
   "cell_type": "code",
   "execution_count": 20,
   "id": "630c5775",
   "metadata": {},
   "outputs": [
    {
     "data": {
      "image/png": "[encoded data removed]",
      "text/plain": [
       "<Figure size 640x480 with 1 Axes>"
      ]
     },
     "metadata": {},
     "output_type": "display_data"
    }
   ],
   "source": [
    "Q1 = df['PRCP'].quantile(0.25)\n",
    "Q3 = df['PRCP'].quantile(0.75)\n",
    "IQR = Q3 - Q1\n",
    "LowerBound = Q1 - 1.5*IQR\n",
    "UpperBound = Q3 + 1.5*IQR\n",
    "df = df.drop(df[(df['PRCP'] < LowerBound) | (df['PRCP'] > UpperBound)].index)\n",
    "df.boxplot(column=['PRCP'])\n",
    "plt.show();\n"
   ]
  },
  {
   "cell_type": "code",
   "execution_count": 21,
   "id": "eb1eb7c0",
   "metadata": {},
   "outputs": [
    {
     "data": {
      "image/png": "[encoded data removed]",
      "text/plain": [
       "<Figure size 640x480 with 1 Axes>"
      ]
     },
     "metadata": {},
     "output_type": "display_data"
    }
   ],
   "source": [
    "Q1 = df['PRCP'].quantile(0.25)\n",
    "Q3 = df['PRCP'].quantile(0.75)\n",
    "IQR = Q3 - Q1\n",
    "LowerBound = Q1 - 1.5*IQR\n",
    "UpperBound = Q3 + 1.5*IQR\n",
    "df = df.drop(df[(df['PRCP'] < LowerBound) | (df['PRCP'] > UpperBound)].index)\n",
    "df.boxplot(column=['PRCP'])\n",
    "plt.show();\n"
   ]
  },
  {
   "cell_type": "code",
   "execution_count": 22,
   "id": "ca9e8478",
   "metadata": {},
   "outputs": [
    {
     "data": {
      "image/png": "[encoded data removed]",
      "text/plain": [
       "<Figure size 640x480 with 1 Axes>"
      ]
     },
     "metadata": {},
     "output_type": "display_data"
    }
   ],
   "source": [
    "Q1 = df['PRCP'].quantile(0.25)\n",
    "Q3 = df['PRCP'].quantile(0.75)\n",
    "IQR = Q3 - Q1\n",
    "LowerBound = Q1 - 1.5*IQR\n",
    "UpperBound = Q3 + 1.5*IQR\n",
    "df = df.drop(df[(df['PRCP'] < LowerBound) | (df['PRCP'] > UpperBound)].index)\n",
    "df.boxplot(column=['PRCP'])\n",
    "plt.show();\n"
   ]
  },
  {
   "cell_type": "code",
   "execution_count": 23,
   "id": "1a97bba3",
   "metadata": {},
   "outputs": [
    {
     "data": {
      "image/png": "[encoded data removed]",
      "text/plain": [
       "<Figure size 640x480 with 1 Axes>"
      ]
     },
     "metadata": {},
     "output_type": "display_data"
    }
   ],
   "source": [
    "sns.boxplot(data=df);"
   ]
  },
  {
   "cell_type": "code",
   "execution_count": null,
   "id": "cb9b1d63",
   "metadata": {},
   "outputs": [],
   "source": []
  }
 ],
 "metadata": {
  "kernelspec": {
   "display_name": "Python 3 (ipykernel)",
   "language": "python",
   "name": "python3"
  },
  "language_info": {
   "codemirror_mode": {
    "name": "ipython",
    "version": 3
   },
   "file_extension": ".py",
   "mimetype": "text/x-python",
   "name": "python",
   "nbconvert_exporter": "python",
   "pygments_lexer": "ipython3",
   "version": "3.10.9"
  }
 },
 "nbformat": 4,
 "nbformat_minor": 5
}
